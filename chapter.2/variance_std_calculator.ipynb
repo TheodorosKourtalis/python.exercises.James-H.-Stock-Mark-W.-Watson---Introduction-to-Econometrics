{
 "cells": [
  {
   "cell_type": "code",
   "execution_count": null,
   "id": "f3b55fd9-0988-44ac-a372-9bb08a1eae1b",
   "metadata": {},
   "outputs": [],
   "source": [
    "# Cell 1: Imports\n",
    "import numpy as np\n",
    "import matplotlib.pyplot as plt\n",
    "from ipywidgets import interact_manual, Textarea\n",
    "import ast"
   ]
  },
  {
   "cell_type": "code",
   "execution_count": null,
   "id": "f8ebd78a-3f17-470e-b162-9b1f2a8fbdc9",
   "metadata": {},
   "outputs": [],
   "source": [
    "# Cell 2: Variance and Standard Deviation Calculator Function\n",
    "def variance_std_calculator(values_text, probabilities_text):\n",
    "    \"\"\"\n",
    "    This function calculates the expected value, variance, and standard deviation\n",
    "    given a list of values and corresponding probabilities.\n",
    "    \n",
    "    Parameters:\n",
    "        values_text (str): A string representation of a list of values, e.g. \"[0, 1, 2, 3, 4]\"\n",
    "        probabilities_text (str): A string representation of a list of probabilities, e.g. \"[0.8, 0.1, 0.06, 0.03, 0.01]\"\n",
    "    \"\"\"\n",
    "    try:\n",
    "        # Convert string inputs into Python lists\n",
    "        values = ast.literal_eval(values_text)\n",
    "        probabilities = ast.literal_eval(probabilities_text)\n",
    "        \n",
    "        # Check that both inputs are lists\n",
    "        if not (isinstance(values, list) and isinstance(probabilities, list)):\n",
    "            print(\"❌ Both inputs should be lists.\")\n",
    "            return\n",
    "        \n",
    "        # Check that they have the same length\n",
    "        if len(values) != len(probabilities):\n",
    "            print(\"❌ The number of values does not match the number of probabilities.\")\n",
    "            return\n",
    "        \n",
    "        # Check if probabilities sum to 1 (within a tolerance)\n",
    "        if not np.isclose(sum(probabilities), 1.0):\n",
    "            print(\"⚠️ The probabilities do not sum to 1. Please adjust them.\")\n",
    "            return\n",
    "        \n",
    "        # Calculate the expected value (mean)\n",
    "        expected_value = sum(val * prob for val, prob in zip(values, probabilities))\n",
    "        \n",
    "        # Calculate the variance and the standard deviation\n",
    "        variance = sum(prob * (val - expected_value)**2 for val, prob in zip(values, probabilities))\n",
    "        std_deviation = np.sqrt(variance)\n",
    "        \n",
    "        # Output the results\n",
    "        print(f\"Values: {values}\")\n",
    "        print(f\"Probabilities: {probabilities}\")\n",
    "        print(f\"Expected Value: {expected_value:.4f}\")\n",
    "        print(f\"Variance: {variance:.4f}\")\n",
    "        print(f\"Standard Deviation: {std_deviation:.4f}\")\n",
    "        \n",
    "    except Exception as e:\n",
    "        print(\"❌ Invalid input format. Please ensure your inputs are valid list strings.\")\n",
    "        print(\"Error:\", e)"
   ]
  },
  {
   "cell_type": "code",
   "execution_count": null,
   "id": "fb3e8b39-6381-484a-8d5b-1240ac7dd68c",
   "metadata": {},
   "outputs": [],
   "source": [
    "# Cell 3: Interactive Widget Interface\n",
    "interact_manual(\n",
    "    variance_std_calculator,\n",
    "    values_text=Textarea(\n",
    "        value='[0, 1, 2, 3, 4]',\n",
    "        description='Values:',\n",
    "        layout={'width': '400px', 'height': '80px'}\n",
    "    ),\n",
    "    probabilities_text=Textarea(\n",
    "        value='[0.8, 0.1, 0.06, 0.03, 0.01]',\n",
    "        description='Probabilities:',\n",
    "        layout={'width': '400px', 'height': '80px'}\n",
    "    )\n",
    ");"
   ]
  }
 ],
 "metadata": {
  "kernelspec": {
   "display_name": "Python 3",
   "language": "python",
   "name": "python3"
  },
  "language_info": {
   "name": "python",
   "version": "3.x"
  }
 },
 "nbformat": 4,
 "nbformat_minor": 5
}