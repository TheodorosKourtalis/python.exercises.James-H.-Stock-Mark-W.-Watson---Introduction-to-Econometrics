{
 "cells": [
  {
   "cell_type": "code",
   "execution_count": 1,
   "id": "e234f7b9-2d8a-4a10-98c2-768cf32e6a12",
   "metadata": {},
   "outputs": [],
   "source": [
    "# Cell 1: Imports\n",
    "import numpy as np\n",
    "from ipywidgets import interact_manual, Textarea\n",
    "import ast"
   ]
  },
  {
   "cell_type": "code",
   "execution_count": 2,
   "id": "4a69f1c6-1efd-4f86-8e26-7ce1d394b914",
   "metadata": {},
   "outputs": [],
   "source": [
    "# Cell 2: Skewness & Kurtosis Calculator Function\n",
    "def skewness_kurtosis_calculator(values_text, probabilities_text):\n",
    "    \"\"\"\n",
    "    Calculates the skewness and kurtosis given a list of values and their corresponding probabilities.\n",
    "    \n",
    "    Skewness is defined as: E[(Y - mu)^3] / sigma^3\n",
    "    Kurtosis is defined as: E[(Y - mu)^4] / sigma^4\n",
    "    \n",
    "    Parameters:\n",
    "        values_text (str): String representation of a list of values, e.g., \"[0, 1, 2, 3, 4]\"\n",
    "        probabilities_text (str): String representation of a list of probabilities, e.g., \"[0.8, 0.1, 0.06, 0.03, 0.01]\"\n",
    "    \"\"\"\n",
    "    try:\n",
    "        # Convert string inputs into Python lists\n",
    "        values = ast.literal_eval(values_text)\n",
    "        probabilities = ast.literal_eval(probabilities_text)\n",
    "        \n",
    "        # Validate inputs\n",
    "        if not (isinstance(values, list) and isinstance(probabilities, list)):\n",
    "            print(\"❌ Both inputs should be lists.\")\n",
    "            return\n",
    "        if len(values) != len(probabilities):\n",
    "            print(\"❌ The number of values does not match the number of probabilities.\")\n",
    "            return\n",
    "        if not np.isclose(sum(probabilities), 1.0):\n",
    "            print(\"⚠️ The probabilities do not sum to 1. Please adjust them.\")\n",
    "            return\n",
    "        \n",
    "        # Convert to numpy arrays\n",
    "        values = np.array(values, dtype=float)\n",
    "        probabilities = np.array(probabilities, dtype=float)\n",
    "        \n",
    "        # Calculate expected value (mean)\n",
    "        mean = np.sum(values * probabilities)\n",
    "        \n",
    "        # Calculate variance and standard deviation\n",
    "        variance = np.sum(probabilities * (values - mean)**2)\n",
    "        std = np.sqrt(variance)\n",
    "        if std == 0:\n",
    "            print(\"Standard deviation is 0, cannot compute skewness or kurtosis.\")\n",
    "            return\n",
    "        \n",
    "        # Calculate skewness\n",
    "        skewness = np.sum(probabilities * (values - mean)**3) / (std**3)\n",
    "        \n",
    "        # Calculate kurtosis\n",
    "        kurtosis = np.sum(probabilities * (values - mean)**4) / (std**4)\n",
    "        \n",
    "        print(f\"Values: {values.tolist()}\")\n",
    "        print(f\"Probabilities: {probabilities.tolist()}\")\n",
    "        print(f\"Mean: {mean:.4f}\")\n",
    "        print(f\"Variance: {variance:.4f}\")\n",
    "        print(f\"Standard Deviation: {std:.4f}\")\n",
    "        print(f\"Skewness: {skewness:.4f}\")\n",
    "        print(f\"Kurtosis: {kurtosis:.4f}\")\n",
    "    except Exception as e:\n",
    "        print(\"❌ Invalid input format. Please ensure your inputs are valid list strings.\")\n",
    "        print(\"Error:\", e)"
   ]
  },
  {
   "cell_type": "code",
   "execution_count": 3,
   "id": "015b9c3a-8328-4bb0-8966-3cdb40687ad9",
   "metadata": {},
   "outputs": [
    {
     "data": {
      "application/vnd.jupyter.widget-view+json": {
       "model_id": "08691b1b15c04a3aa9581b9c7536e9dd",
       "version_major": 2,
       "version_minor": 0
      },
      "text/plain": [
       "interactive(children=(Textarea(value='[0, 1, 2, 3, 4]', description='Values:', layout=Layout(height='80px', wi…"
      ]
     },
     "metadata": {},
     "output_type": "display_data"
    }
   ],
   "source": [
    "# Cell 3: Interactive Widget Interface\n",
    "interact_manual(\n",
    "    skewness_kurtosis_calculator,\n",
    "    values_text=Textarea(\n",
    "        value='[0, 1, 2, 3, 4]',\n",
    "        description='Values:',\n",
    "        layout={'width': '400px', 'height': '80px'}\n",
    "    ),\n",
    "    probabilities_text=Textarea(\n",
    "        value='[0.8, 0.1, 0.06, 0.03, 0.01]',\n",
    "        description='Probabilities:',\n",
    "        layout={'width': '400px', 'height': '80px'}\n",
    "    )\n",
    ");"
   ]
  },
  {
   "cell_type": "code",
   "execution_count": null,
   "id": "8e499b26-d02c-4e91-9986-a91c45439f02",
   "metadata": {},
   "outputs": [],
   "source": []
  }
 ],
 "metadata": {
  "kernelspec": {
   "display_name": "Python 3 (ipykernel)",
   "language": "python",
   "name": "python3"
  },
  "language_info": {
   "codemirror_mode": {
    "name": "ipython",
    "version": 3
   },
   "file_extension": ".py",
   "mimetype": "text/x-python",
   "name": "python",
   "nbconvert_exporter": "python",
   "pygments_lexer": "ipython3",
   "version": "3.11.11"
  }
 },
 "nbformat": 4,
 "nbformat_minor": 5
}
