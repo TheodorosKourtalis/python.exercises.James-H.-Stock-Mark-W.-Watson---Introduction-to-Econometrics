{
 "cells": [
  {
   "cell_type": "code",
   "execution_count": null,
   "id": "55d1d434-478a-4d21-83eb-efbe635b5b88",
   "metadata": {},
   "outputs": [],
   "source": [
    "# Cell 1: Imports\n",
    "import numpy as np\n",
    "import matplotlib.pyplot as plt\n",
    "from ipywidgets import interact_manual, Textarea\n",
    "import ast"
   ]
  },
  {
   "cell_type": "code",
   "execution_count": null,
   "id": "cb5120b4-c9e3-47ea-9d9c-388cd1cba5f4",
   "metadata": {},
   "outputs": [],
   "source": [
    "# Cell 2: Expected Value Calculator Function\n",
    "def expected_value_calculator(values_text, probabilities_text):\n",
    "    \"\"\"\n",
    "    This function calculates the expected value given a list of values\n",
    "    and a list of corresponding probabilities.\n",
    "    \n",
    "    Parameters:\n",
    "        values_text (str): A string representation of a list of values, e.g. \"[0, 1, 2, 3, 4]\"\n",
    "        probabilities_text (str): A string representation of a list of probabilities, e.g. \"[0.8, 0.1, 0.06, 0.03, 0.01]\"\n",
    "    \"\"\"\n",
    "    try:\n",
    "        # Convert string inputs into Python lists\n",
    "        values = ast.literal_eval(values_text)\n",
    "        probabilities = ast.literal_eval(probabilities_text)\n",
    "        \n",
    "        # Ensure both inputs are lists and have the same length\n",
    "        if not (isinstance(values, list) and isinstance(probabilities, list)):\n",
    "            print(\"❌ Both inputs should be lists.\")\n",
    "            return\n",
    "        \n",
    "        if len(values) != len(probabilities):\n",
    "            print(\"❌ The number of values does not match the number of probabilities.\")\n",
    "            return\n",
    "        \n",
    "        # Check if probabilities sum to 1 (allowing a small numerical tolerance)\n",
    "        if not np.isclose(sum(probabilities), 1.0):\n",
    "            print(\"⚠️ The probabilities do not sum to 1. Please adjust them.\")\n",
    "            return\n",
    "        \n",
    "        # Calculate the expected value\n",
    "        expected_value = sum(val * prob for val, prob in zip(values, probabilities))\n",
    "        \n",
    "        print(f\"Values: {values}\")\n",
    "        print(f\"Probabilities: {probabilities}\")\n",
    "        print(f\"Expected Value: {expected_value:.4f}\")\n",
    "        \n",
    "    except Exception as e:\n",
    "        print(\"❌ Invalid input format. Please ensure your inputs are valid list strings.\")\n",
    "        print(\"Error:\", e)"
   ]
  },
  {
   "cell_type": "code",
   "execution_count": null,
   "id": "d4d87957-4d60-4fc3-9c5b-22772c43a56a",
   "metadata": {},
   "outputs": [],
   "source": [
    "# Cell 3: Interactive Widget Interface\n",
    "interact_manual(\n",
    "    expected_value_calculator,\n",
    "    values_text=Textarea(\n",
    "        value='[0, 1, 2, 3, 4]',\n",
    "        description='Values:',\n",
    "        layout={'width': '400px', 'height': '80px'}\n",
    "    ),\n",
    "    probabilities_text=Textarea(\n",
    "        value='[0.8, 0.1, 0.06, 0.03, 0.01]',\n",
    "        description='Probabilities:',\n",
    "        layout={'width': '400px', 'height': '80px'}\n",
    "    )\n",
    ");"
   ]
  }
 ],
 "metadata": {
  "kernelspec": {
   "display_name": "Python 3",
   "language": "python",
   "name": "python3"
  },
  "language_info": {
   "name": "python",
   "version": "3.x"
  }
 },
 "nbformat": 4,
 "nbformat_minor": 5
}